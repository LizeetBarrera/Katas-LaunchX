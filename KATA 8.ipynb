{
 "cells": [
  {
   "cell_type": "markdown",
   "metadata": {},
   "source": [
    "# Ejercicio 1: Creación de diccionarios de Python"
   ]
  },
  {
   "cell_type": "code",
   "execution_count": 17,
   "metadata": {},
   "outputs": [],
   "source": [
    "planeta = \"El planeta Marte \"\n",
    "lunas = \"cuenta con dos lunas\""
   ]
  },
  {
   "cell_type": "code",
   "execution_count": 18,
   "metadata": {},
   "outputs": [
    {
     "name": "stdout",
     "output_type": "stream",
     "text": [
      "El planeta Marte cuenta con dos lunas\n"
     ]
    }
   ],
   "source": [
    "datos = f\"{planeta}{lunas}\"\n",
    "print(datos)"
   ]
  },
  {
   "cell_type": "code",
   "execution_count": 25,
   "metadata": {},
   "outputs": [],
   "source": [
    "polares = \"tiene una circunferencia polar de 6752\" \n",
    "ecuatorial: \"tiene una circunferencia ecuatorial de 6792\""
   ]
  },
  {
   "cell_type": "code",
   "execution_count": 28,
   "metadata": {},
   "outputs": [
    {
     "name": "stdout",
     "output_type": "stream",
     "text": [
      "El planeta Marte cuenta con dos lunas tiene una circunferencia polar de 6752\n"
     ]
    }
   ],
   "source": [
    "circuferencia = f\"{planeta}{lunas} {polares}\"\n",
    "print(circuferencia)"
   ]
  },
  {
   "cell_type": "markdown",
   "metadata": {},
   "source": [
    "# Ejercicio 2: Programación dinámica con diccionarios"
   ]
  },
  {
   "cell_type": "code",
   "execution_count": 38,
   "metadata": {},
   "outputs": [],
   "source": [
    "\n",
    "planet_moons = {\n",
    "    \"Mercury\": 0,\n",
    "    \"Venus\": 0,\n",
    "    \"Earth\": 1,\n",
    "    \"Mars\": 2,\n",
    "    \"Jupiter\": 79,\n",
    "    \"Saturn\": 82,\n",
    "    \"Uranus\": 27,\n",
    "    \"Neptune\": 14,\n",
    "    \"Pluto\": 5,\n",
    "    \"Haumea\": 2,\n",
    "    \"Makemake\": 1,\n",
    "    \"Eris\": 1\n",
    "}"
   ]
  },
  {
   "cell_type": "code",
   "execution_count": 39,
   "metadata": {},
   "outputs": [
    {
     "name": "stdout",
     "output_type": "stream",
     "text": [
      "Número de lunas: 214\n"
     ]
    }
   ],
   "source": [
    "N_lunas = (0 + 0 + 1 + 2 + 79 + 82 + 27 + 14 + 5 + 2 + 1 + 1)\n",
    "print(\"Número de lunas: \"+str(N_lunas))"
   ]
  },
  {
   "cell_type": "code",
   "execution_count": 40,
   "metadata": {},
   "outputs": [
    {
     "name": "stdout",
     "output_type": "stream",
     "text": [
      "Mercury: 0 Satélites Naturales\n",
      "Venus: 0 Satélites Naturales\n",
      "Earth: 1 Satélites Naturales\n",
      "Mars: 2 Satélites Naturales\n",
      "Jupiter: 79 Satélites Naturales\n",
      "Saturn: 82 Satélites Naturales\n",
      "Uranus: 27 Satélites Naturales\n",
      "Neptune: 14 Satélites Naturales\n",
      "Pluto: 5 Satélites Naturales\n",
      "Haumea: 2 Satélites Naturales\n",
      "Makemake: 1 Satélites Naturales\n",
      "Eris: 1 Satélites Naturales\n",
      "El promedio de Satélites Naturales es:\n",
      "26.25\n"
     ]
    }
   ],
   "source": [
    "for key in planet_moons.keys():\n",
    " print(f'{key}: {planet_moons[key]} Satélites Naturales')\n",
    "\n",
    "\n",
    "Planeta_Lunas = {0,0,1,2,79,82,27,14,5,2,1,1}\n",
    "mean = sum(Planeta_Lunas)/len(Planeta_Lunas)\n",
    "print('El promedio de Satélites Naturales es:')\n",
    "print(mean)"
   ]
  }
 ],
 "metadata": {
  "interpreter": {
   "hash": "43a265a97f9b8d1a70f2d84af00138063afd550e5c782f36aaeba0f16d129512"
  },
  "kernelspec": {
   "display_name": "Python 3.10.2 64-bit",
   "language": "python",
   "name": "python3"
  },
  "language_info": {
   "codemirror_mode": {
    "name": "ipython",
    "version": 3
   },
   "file_extension": ".py",
   "mimetype": "text/x-python",
   "name": "python",
   "nbconvert_exporter": "python",
   "pygments_lexer": "ipython3",
   "version": "3.10.2"
  },
  "orig_nbformat": 4
 },
 "nbformat": 4,
 "nbformat_minor": 2
}
