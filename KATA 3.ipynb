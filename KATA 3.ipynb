{
 "cells": [
  {
   "cell_type": "markdown",
   "metadata": {},
   "source": [
    "# ANALISIS DEL DÍA "
   ]
  },
  {
   "cell_type": "code",
   "execution_count": 1,
   "metadata": {},
   "outputs": [
    {
     "name": "stdout",
     "output_type": "stream",
     "text": [
      "Hola Mundo\n",
      "Estamos analizando la cercanía del asteroide \n"
     ]
    }
   ],
   "source": [
    "print(\"Hola Mundo\")\n",
    "print(\"Estamos analizando la cercanía del asteroide \")"
   ]
  },
  {
   "cell_type": "code",
   "execution_count": 2,
   "metadata": {},
   "outputs": [
    {
     "name": "stdout",
     "output_type": "stream",
     "text": [
      "EL ASTEROIDE SE ACERCA DEMASIADO RAPIDO A LA TIERRA\n",
      "Les solicitamos acudir a los refugios y esperar indicaciones\n"
     ]
    }
   ],
   "source": [
    "a = 49 \n",
    "b = 25 \n",
    "if a >= b:\n",
    "    print(\"EL ASTEROIDE SE ACERCA DEMASIADO RAPIDO A LA TIERRA\")\n",
    "    print(\"Les solicitamos acudir a los refugios y esperar indicaciones\")\n",
    "else: \n",
    "    print(\"Ten un lindo día\")"
   ]
  },
  {
   "cell_type": "markdown",
   "metadata": {},
   "source": [
    "# OBSERVAR UN ASTEROIDE "
   ]
  },
  {
   "cell_type": "code",
   "execution_count": 3,
   "metadata": {},
   "outputs": [
    {
     "name": "stdout",
     "output_type": "stream",
     "text": [
      "Ten un lindo día\n",
      "Hoy no veremos un asteroide\n"
     ]
    }
   ],
   "source": [
    "a = 19\n",
    "b = 20 \n",
    "if a > b:\n",
    "    print(\"Mira al cielo, algo mágico está pasando\")\n",
    "    print(\"Un asteroide en el cielo\")\n",
    "elif a == b: \n",
    "    print(\"Mira al cielo, algo mágico está pasando\")\n",
    "    print(\"Un asteroide en el cielo\")  \n",
    "else: \n",
    "    print(\"Ten un lindo día\")\n",
    "    print(\"Hoy no veremos un asteroide\")"
   ]
  },
  {
   "cell_type": "markdown",
   "metadata": {},
   "source": [
    "# PRUEBA DOS"
   ]
  },
  {
   "cell_type": "code",
   "execution_count": 4,
   "metadata": {},
   "outputs": [
    {
     "name": "stdout",
     "output_type": "stream",
     "text": [
      "Hola Mundo\n",
      "Estamos analizando la cercanía del asteroide \n"
     ]
    }
   ],
   "source": [
    "print(\"Hola Mundo\")\n",
    "print(\"Estamos analizando la cercanía del asteroide \")"
   ]
  },
  {
   "cell_type": "code",
   "execution_count": 5,
   "metadata": {},
   "outputs": [
    {
     "name": "stdout",
     "output_type": "stream",
     "text": [
      "Mantente informado, daremos más indicaciones\n"
     ]
    }
   ],
   "source": [
    "a = 19 \n",
    "b = 25\n",
    "numero_de_asteroides = 4\n",
    "if a > b and numero_de_asteroides > 2:\n",
    "    print(\"El asteroide se acerca demasiado rápido a la Tierra\")\n",
    "    print(\"Les solicitamos acudir a los refugios y esperar indicaciones\")\n",
    "elif b == a:\n",
    "    print(\"El asteroide se acerca demasiado rápido a la Tierra\")\n",
    "    print(\"Les solicitamos acudir a los refugios y esperar indicaciones\")\n",
    "elif a > b or numero_de_asteroides > 2:\n",
    "    print(\"Mantente informado, daremos más indicaciones\")\n",
    "else:  \n",
    "    print(\"Ten un lindo día\")"
   ]
  },
  {
   "cell_type": "code",
   "execution_count": 6,
   "metadata": {},
   "outputs": [
    {
     "name": "stdout",
     "output_type": "stream",
     "text": [
      "El asteroide se acerca demasiado rápido a la Tierra\n",
      "Les solicitamos acudir a los refugios y esperar indicaciones\n",
      "Se observan vasrios asteroides\n"
     ]
    }
   ],
   "source": [
    "a = 25\n",
    "b = 25\n",
    "numero_de_asteroides = 6\n",
    "if a > b and numero_de_asteroides > 2:\n",
    "    print(\"El asteroide se acerca demasiado rápido a la Tierra\")\n",
    "    print(\"Se observan vasrios asteroides\")\n",
    "    print(\"Les solicitamos acudir a los refugios y esperar indicaciones\")\n",
    "elif b == a and numero_de_asteroides > 2:\n",
    "    print(\"El asteroide se acerca demasiado rápido a la Tierra\")\n",
    "    print(\"Les solicitamos acudir a los refugios y esperar indicaciones\")\n",
    "    print(\"Se observan vasrios asteroides\")\n",
    "elif numero_de_asteroides > 2:\n",
    "    print(\"Se observan vasrios asteroides pero no presentan un peligro\")\n",
    "    print(\"Mantente informaso\")\n",
    "else:  \n",
    "    print(\"Ten un lindo día\")"
   ]
  }
 ],
 "metadata": {
  "interpreter": {
   "hash": "43a265a97f9b8d1a70f2d84af00138063afd550e5c782f36aaeba0f16d129512"
  },
  "kernelspec": {
   "display_name": "Python 3.10.2 64-bit",
   "language": "python",
   "name": "python3"
  },
  "language_info": {
   "codemirror_mode": {
    "name": "ipython",
    "version": 3
   },
   "file_extension": ".py",
   "mimetype": "text/x-python",
   "name": "python",
   "nbconvert_exporter": "python",
   "pygments_lexer": "ipython3",
   "version": "3.10.2"
  },
  "orig_nbformat": 4
 },
 "nbformat": 4,
 "nbformat_minor": 2
}
