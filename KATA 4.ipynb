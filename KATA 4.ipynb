{
 "cells": [
  {
   "cell_type": "markdown",
   "metadata": {},
   "source": [
    "# EJERCICIO 1"
   ]
  },
  {
   "cell_type": "markdown",
   "metadata": {},
   "source": [
    "Divide el texto"
   ]
  },
  {
   "cell_type": "code",
   "execution_count": 5,
   "metadata": {},
   "outputs": [],
   "source": [
    "satellite = \"It is Earth's only satellite\"\n",
    "move = \"The moves 4cm away from the Earth every year\"\n",
    "tempereture = \"Your are highest daylight temperature of  is 127 C\""
   ]
  },
  {
   "cell_type": "code",
   "execution_count": 4,
   "metadata": {},
   "outputs": [
    {
     "name": "stdout",
     "output_type": "stream",
     "text": [
      "[\"It is Earth's only satellite\"]\n"
     ]
    }
   ],
   "source": [
    "satellite_number = satellite.split(\".\")\n",
    "print(satellite_number)"
   ]
  },
  {
   "cell_type": "code",
   "execution_count": 6,
   "metadata": {},
   "outputs": [
    {
     "name": "stdout",
     "output_type": "stream",
     "text": [
      "['The moves 4cm away from the Earth every year']\n"
     ]
    }
   ],
   "source": [
    "it_move = move.split(\".\")\n",
    "print(it_move)"
   ]
  },
  {
   "cell_type": "code",
   "execution_count": 8,
   "metadata": {},
   "outputs": [
    {
     "name": "stdout",
     "output_type": "stream",
     "text": [
      "['Your are highest daylight temperature of  is 127 C']\n"
     ]
    }
   ],
   "source": [
    "tempereture_level = tempereture.split(\".\")\n",
    "print(tempereture_level)\n"
   ]
  },
  {
   "cell_type": "markdown",
   "metadata": {},
   "source": [
    "Palabras clave"
   ]
  },
  {
   "cell_type": "code",
   "execution_count": 53,
   "metadata": {},
   "outputs": [],
   "source": [
    "words = [\"year\", \"C\", \"only\", \"daylight\"]"
   ]
  },
  {
   "cell_type": "markdown",
   "metadata": {},
   "source": [
    "Busqueda"
   ]
  },
  {
   "cell_type": "code",
   "execution_count": 67,
   "metadata": {},
   "outputs": [
    {
     "name": "stdout",
     "output_type": "stream",
     "text": [
      "It is Earth's only satellite\n"
     ]
    }
   ],
   "source": [
    "for satellite in satellite_number: \n",
    "    for only in words:\n",
    "         if only in satellite:\n",
    "            print(satellite)"
   ]
  },
  {
   "cell_type": "code",
   "execution_count": 66,
   "metadata": {},
   "outputs": [
    {
     "name": "stdout",
     "output_type": "stream",
     "text": [
      "The moves 4cm away from the Earth every year\n"
     ]
    }
   ],
   "source": [
    "for move in it_move:\n",
    "    for year in words: \n",
    "        if year in move:\n",
    "            print(move)"
   ]
  },
  {
   "cell_type": "code",
   "execution_count": 63,
   "metadata": {},
   "outputs": [
    {
     "name": "stdout",
     "output_type": "stream",
     "text": [
      "Your are highest daylight temperature of  is 127 C\n"
     ]
    }
   ],
   "source": [
    "for tempereture in tempereture_level:\n",
    "    for C in words: \n",
    "        if C in tempereture:\n",
    "            print(tempereture)"
   ]
  },
  {
   "cell_type": "markdown",
   "metadata": {},
   "source": [
    "De C a Celsius"
   ]
  },
  {
   "cell_type": "code",
   "execution_count": 65,
   "metadata": {},
   "outputs": [
    {
     "name": "stdout",
     "output_type": "stream",
     "text": [
      "Your are highest daylight temperature of  is 127 celsius\n"
     ]
    }
   ],
   "source": [
    "for tempereture in tempereture_level:\n",
    "    for C in words:\n",
    "        if C in tempereture:\n",
    "            print(tempereture.replace(\"C\", \"celsius\"))\n",
    "        "
   ]
  },
  {
   "cell_type": "markdown",
   "metadata": {},
   "source": [
    "# Ejercicio 2: Formateando Cadenas"
   ]
  },
  {
   "cell_type": "code",
   "execution_count": 64,
   "metadata": {},
   "outputs": [],
   "source": [
    "titulo_1 = \"La gravedad de la \"\n",
    "titulo_2 = \"Luna\"\n",
    "titulo_3 = \" y la \"\n",
    "titulo_4 = \"Tierra\""
   ]
  },
  {
   "cell_type": "code",
   "execution_count": 49,
   "metadata": {},
   "outputs": [],
   "source": [
    "gravity = 0.00162\n",
    "meters = 1000"
   ]
  },
  {
   "cell_type": "code",
   "execution_count": 63,
   "metadata": {},
   "outputs": [
    {
     "name": "stdout",
     "output_type": "stream",
     "text": [
      " La gravedad de la Luna y laTierra\n"
     ]
    }
   ],
   "source": [
    "titulo_c = f' {titulo_1}{titulo_2}{titulo_3}{titulo_4}'\n",
    "print(titulo_c)\n"
   ]
  },
  {
   "cell_type": "code",
   "execution_count": 57,
   "metadata": {},
   "outputs": [
    {
     "name": "stdout",
     "output_type": "stream",
     "text": [
      "La gravedad= 1.6199999999999999 m/s2\n"
     ]
    }
   ],
   "source": [
    "print(\"La gravedad= \" +str(gravity * meters) +\" m/s2\")"
   ]
  },
  {
   "cell_type": "markdown",
   "metadata": {},
   "source": [
    "Nuevo planeta "
   ]
  },
  {
   "cell_type": "code",
   "execution_count": 51,
   "metadata": {},
   "outputs": [],
   "source": [
    "planeta = 'Marte '\n",
    "gravedad  = 0.00143\n",
    "nombre = 'Ganímedes'"
   ]
  },
  {
   "cell_type": "code",
   "execution_count": 55,
   "metadata": {},
   "outputs": [
    {
     "name": "stdout",
     "output_type": "stream",
     "text": [
      "\n",
      "Información sobre: Ganímedes\n",
      "Nombre del planeta: Marte \n",
      "Gravedad en Ganímedes: 0.00143 m/s2\n",
      "\n"
     ]
    }
   ],
   "source": [
    "nuevo_planeta = \"\"\"\n",
    "Información sobre: {nombre}\n",
    "Nombre del planeta: {planeta}\n",
    "Gravedad en {nombre}: {gravedad} m/s2\n",
    "\"\"\"\n",
    "print(nuevo_planeta.format(nombre=nombre, planeta=planeta, gravedad=gravedad))"
   ]
  },
  {
   "cell_type": "code",
   "execution_count": 59,
   "metadata": {},
   "outputs": [
    {
     "name": "stdout",
     "output_type": "stream",
     "text": [
      "\n",
      "Información sobre: Ganímedes\n",
      "Nombre del planeta: Marte \n",
      "Gravedad en Ganímedes: 1.4300000000000002 m/s2\n",
      "\n"
     ]
    }
   ],
   "source": [
    "print(nuevo_planeta.format(nombre=nombre, planeta=planeta, gravedad=gravedad*meters))"
   ]
  }
 ],
 "metadata": {
  "interpreter": {
   "hash": "43a265a97f9b8d1a70f2d84af00138063afd550e5c782f36aaeba0f16d129512"
  },
  "kernelspec": {
   "display_name": "Python 3.10.2 64-bit",
   "language": "python",
   "name": "python3"
  },
  "language_info": {
   "codemirror_mode": {
    "name": "ipython",
    "version": 3
   },
   "file_extension": ".py",
   "mimetype": "text/x-python",
   "name": "python",
   "nbconvert_exporter": "python",
   "pygments_lexer": "ipython3",
   "version": "3.10.2"
  },
  "orig_nbformat": 4
 },
 "nbformat": 4,
 "nbformat_minor": 2
}
